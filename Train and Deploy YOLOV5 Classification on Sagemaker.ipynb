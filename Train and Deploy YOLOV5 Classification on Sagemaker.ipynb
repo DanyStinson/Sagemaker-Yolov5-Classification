{
 "cells": [
  {
   "cell_type": "markdown",
   "id": "b0d778f8-61b3-4328-979f-42285113f815",
   "metadata": {},
   "source": [
    "# Train and Deploy YOLOV5 Classification on Sagemaker\n",
    "This notebook shows the steps needed to train and deploy a YOLOV5 classification model on Amazon Sagemaker\n",
    "\n",
    "## Step 0. Import needed libraries"
   ]
  },
  {
   "cell_type": "code",
   "execution_count": null,
   "id": "1ffe267b-8436-4f94-9f8e-4a3820486f0a",
   "metadata": {
    "tags": []
   },
   "outputs": [],
   "source": [
    "!pip install shortuuid"
   ]
  },
  {
   "cell_type": "code",
   "execution_count": null,
   "id": "e77ff5a7-f652-4bc1-b7ad-95d7f81ae892",
   "metadata": {
    "tags": []
   },
   "outputs": [],
   "source": [
    "import json\n",
    "import numpy as np\n",
    "import pandas as pd\n",
    "import os\n",
    "import boto3\n",
    "import sagemaker\n",
    "import uuid\n",
    "import time\n",
    "import shortuuid\n",
    "import shutil\n",
    "#import cv2\n",
    "import glob\n",
    "import matplotlib.pyplot as plt\n",
    "%matplotlib inline \n",
    "from sagemaker.pytorch.estimator import PyTorch\n",
    "from sagemaker.session import TrainingInput\n",
    "from sagemaker import get_execution_role\n",
    "from sagemaker.utils import name_from_base\n",
    "from sagemaker.pytorch import PyTorchModel\n",
    "from sagemaker.serializers import DataSerializer\n",
    "from sagemaker.deserializers import JSONDeserializer\n",
    "sm_session = sagemaker.Session()\n",
    "role = get_execution_role()\n",
    "s3_resource = boto3.resource('s3')"
   ]
  },
  {
   "cell_type": "markdown",
   "id": "bfa81a9b-7051-4a88-a68f-27e42970ca39",
   "metadata": {
    "tags": []
   },
   "source": [
    "## Step 1. Training a Classification Model on Amazon SageMaker\n",
    "\n",
    "### Clone the YOLO-V5 repository"
   ]
  },
  {
   "cell_type": "code",
   "execution_count": null,
   "id": "d9e3f294-18f1-4235-95e6-c03a10d752b3",
   "metadata": {
    "tags": []
   },
   "outputs": [],
   "source": [
    "!git clone https://github.com/ultralytics/yolov5 "
   ]
  },
  {
   "cell_type": "markdown",
   "id": "f3952276-630c-4546-86f7-f1eb218beacc",
   "metadata": {},
   "source": [
    "### Locate your training data"
   ]
  },
  {
   "cell_type": "markdown",
   "id": "217a1dce-7485-46aa-b0c8-5825813124b0",
   "metadata": {},
   "source": [
    "Training data should follow the following folder structure and only contain images:\n",
    "\n",
    "Folder structure is in alphabetical order, remember to complete your classes array in the same order.\n",
    "\n",
    "```\n",
    "dataset\n",
    "├── train\n",
    "│   ├── class-one\n",
    "│   │   ├── IMG_123.jpg\n",
    "│   └── class-two\n",
    "│       ├── IMG_456.jpg\n",
    "├── val\n",
    "│   ├── class-one\n",
    "│   │   ├── IMG_789.jpg\n",
    "│   └── class-two\n",
    "│       ├── IMG_101.jpg\n",
    "```"
   ]
  },
  {
   "cell_type": "code",
   "execution_count": null,
   "id": "73830f68-cf47-4d59-9b4f-c7b45c766fda",
   "metadata": {
    "tags": []
   },
   "outputs": [],
   "source": [
    "classes = [\"front\", \"frontleft\", \"frontright\"]"
   ]
  },
  {
   "cell_type": "markdown",
   "id": "a21f95d0-4d24-4875-be11-142a6ee6d831",
   "metadata": {
    "tags": []
   },
   "source": [
    "If you are uploading your dataset to Amazon SageMaker Studio remember to delete any checkpoint files before uploading the dataset to Amazon S3:"
   ]
  },
  {
   "cell_type": "code",
   "execution_count": null,
   "id": "73a737f7-e7b1-4841-b5e8-226f6c80b69f",
   "metadata": {
    "tags": []
   },
   "outputs": [],
   "source": [
    "def delete_ipynb_checkpoints(root_directory):\n",
    "    for foldername, subfolders, filenames in os.walk(root_directory):\n",
    "        for subfolder in subfolders:\n",
    "            if subfolder == \".ipynb_checkpoints\":\n",
    "                folder_path = os.path.join(foldername, subfolder)\n",
    "                shutil.rmtree(folder_path)\n",
    "                print(f\"Deleted: {folder_path}\")\n",
    "\n",
    "# Replace the path with the actual path to the dataset directory where you want to start deleting .ipynb_checkpoints folders.\n",
    "delete_ipynb_checkpoints('dataset')"
   ]
  },
  {
   "cell_type": "code",
   "execution_count": null,
   "id": "793f746f-f870-40f3-81f1-a5c6565aeb2c",
   "metadata": {
    "tags": []
   },
   "outputs": [],
   "source": [
    "sm_session = sagemaker.Session()\n",
    "bucket = sm_session.default_bucket()\n",
    "dataset_s3_uri = sm_session.upload_data(\"dataset\", bucket, \"yolov5cars\")\n",
    "print(\"Dataset located in: \",dataset_s3_uri)"
   ]
  },
  {
   "cell_type": "markdown",
   "id": "6459bfe8-6b16-432c-ba72-3afc78ede6a8",
   "metadata": {},
   "source": [
    "### Configure your Training Job"
   ]
  },
  {
   "cell_type": "code",
   "execution_count": null,
   "id": "83e043f6-9be6-47f3-a828-e43786a05c55",
   "metadata": {
    "tags": []
   },
   "outputs": [],
   "source": [
    "training_name = \"yolov5-train\"\n",
    "\n",
    "# Create a short unique identifier\n",
    "short_id = shortuuid.uuid()\n",
    "\n",
    "# Create job_name by combining training_name with the shorter unique identifier\n",
    "job_name = '{}-{}'.format(training_name, short_id)\n",
    "\n",
    "print(job_name)"
   ]
  },
  {
   "cell_type": "code",
   "execution_count": null,
   "id": "a5622b53-9f7d-48a6-b492-61ede99ccbaf",
   "metadata": {
    "tags": []
   },
   "outputs": [],
   "source": [
    "train_input = TrainingInput(dataset_s3_uri)\n",
    "print(\"Your training input is located in:\",dataset_s3_uri)"
   ]
  },
  {
   "cell_type": "code",
   "execution_count": null,
   "id": "529e56d8-59c3-461c-8f9d-1b18fdaad5ba",
   "metadata": {
    "tags": []
   },
   "outputs": [],
   "source": [
    "hyperparameters={\n",
    "    \"workers\":\"8\",\n",
    "    \"device\": \"0\",\n",
    "    \"batch-size\": \"16\",\n",
    "    \"epochs\": 100,\n",
    "    \"data\": \"/opt/ml/input/data/training\",\n",
    "    \"model\": \"yolov5s-cls.pt\",\n",
    "    \"project\": \"/opt/ml/model\"\n",
    "}\n",
    "\n",
    "estimator = PyTorch(\n",
    "    framework_version='1.11.0',\n",
    "    py_version='py38',\n",
    "    entry_point='classify/train.py',\n",
    "    source_dir='yolov5',\n",
    "    hyperparameters=hyperparameters,\n",
    "    instance_count=1,\n",
    "    instance_type='ml.g4dn.xlarge',\n",
    "    role=role,\n",
    "    disable_profiler=True, \n",
    "    debugger_hook_config=False\n",
    ")"
   ]
  },
  {
   "cell_type": "code",
   "execution_count": null,
   "id": "ae1b5c5f-84d9-4315-8025-f2a8e74e1416",
   "metadata": {
    "tags": []
   },
   "outputs": [],
   "source": [
    "estimator.fit(train_input, job_name=job_name)"
   ]
  },
  {
   "cell_type": "markdown",
   "id": "ebabfccb-d314-4610-a833-dd351b7ca8cb",
   "metadata": {},
   "source": [
    "### Deploy the model to an endpoint\n",
    "Define the model name and the model location"
   ]
  },
  {
   "cell_type": "code",
   "execution_count": null,
   "id": "1e135033-6e4a-48c0-a50f-1562cc4b4f7a",
   "metadata": {
    "tags": []
   },
   "outputs": [],
   "source": [
    "model_name = \"Model-\"+job_name\n",
    "model_data = 's3://{}/{}/output/model.tar.gz'.format(sm_session.default_bucket(), job_name)\n",
    "print(model_data)"
   ]
  },
  {
   "cell_type": "markdown",
   "id": "84f9c61f-46d0-4061-a845-5ab6586c457c",
   "metadata": {},
   "source": [
    "Configure the PyTorchModel"
   ]
  },
  {
   "cell_type": "code",
   "execution_count": null,
   "id": "65b63e78-f45d-4348-927f-39776008789b",
   "metadata": {
    "tags": []
   },
   "outputs": [],
   "source": [
    "model = PyTorchModel(\n",
    "    entry_point='inference.py',\n",
    "    source_dir='./helper-code',\n",
    "    model_data=model_data,\n",
    "    framework_version='1.11.0',\n",
    "    py_version='py38',\n",
    "    role=role,\n",
    "    name=model_name\n",
    ")"
   ]
  },
  {
   "cell_type": "markdown",
   "id": "9a964eea-48bd-49f7-98e7-15270e5c6d0f",
   "metadata": {},
   "source": [
    "Deploy the model and define serializers"
   ]
  },
  {
   "cell_type": "code",
   "execution_count": null,
   "id": "51693586-a9da-4e28-a4fd-5f5ed6b687d1",
   "metadata": {
    "tags": []
   },
   "outputs": [],
   "source": [
    "predictor = model.deploy(initial_instance_count=1, instance_type='ml.c5.large')\n",
    "predictor.deserializer = JSONDeserializer()\n",
    "predictor.serializer =DataSerializer(content_type=\"image/png\")"
   ]
  },
  {
   "cell_type": "markdown",
   "id": "2f5708cc-595c-4cfd-acec-c20d24452935",
   "metadata": {},
   "source": [
    "### Test your endpoint"
   ]
  },
  {
   "cell_type": "code",
   "execution_count": null,
   "id": "87aec8af-b944-4a10-8b3a-fafd955c8b92",
   "metadata": {
    "tags": []
   },
   "outputs": [],
   "source": [
    "def print_class_and_percentage(probabilities, class_names):\n",
    "    # Get the index of the maximum probability\n",
    "    max_index = probabilities[0].index(max(probabilities[0]))\n",
    "    \n",
    "    # Get the class name corresponding to the maximum probability\n",
    "    predicted_class = class_names[max_index]\n",
    "    \n",
    "    # Get the percentage (probability) corresponding to the predicted class\n",
    "    confidence_percentage = max(probabilities[0]) * 100\n",
    "    \n",
    "    # Print the predicted class and its confidence percentage\n",
    "    print(f'Class: {predicted_class}, Confidence Percentage: {confidence_percentage:.2f}%')\n",
    "\n",
    "# Directory containing the images\n",
    "image_directory = \"test-images\"\n",
    "\n",
    "# List all files in the directory\n",
    "files = os.listdir(image_directory)\n",
    "\n",
    "# Filter image files (assuming image files have extensions like .jpg, .jpeg, .png)\n",
    "image_files = [file for file in files if file.lower().endswith(('.jpg', '.jpeg', '.png'))]\n",
    "\n",
    "# Iterate over each image and print the class with the highest percentage\n",
    "for image_file in image_files:\n",
    "    image_path = os.path.join(image_directory, image_file)\n",
    "    image_data = open(image_path, 'rb').read()\n",
    "    \n",
    "    # Get the model prediction\n",
    "    results = json.loads(predictor.predict(image_data))\n",
    "    \n",
    "    # Print only the class with the highest percentage\n",
    "    print(f\"Results for {image_file}:\")\n",
    "    print_class_and_percentage(results, classes)\n",
    "    print(\"----------------------\")\n"
   ]
  }
 ],
 "metadata": {
  "availableInstances": [
   {
    "_defaultOrder": 0,
    "_isFastLaunch": true,
    "category": "General purpose",
    "gpuNum": 0,
    "hideHardwareSpecs": false,
    "memoryGiB": 4,
    "name": "ml.t3.medium",
    "vcpuNum": 2
   },
   {
    "_defaultOrder": 1,
    "_isFastLaunch": false,
    "category": "General purpose",
    "gpuNum": 0,
    "hideHardwareSpecs": false,
    "memoryGiB": 8,
    "name": "ml.t3.large",
    "vcpuNum": 2
   },
   {
    "_defaultOrder": 2,
    "_isFastLaunch": false,
    "category": "General purpose",
    "gpuNum": 0,
    "hideHardwareSpecs": false,
    "memoryGiB": 16,
    "name": "ml.t3.xlarge",
    "vcpuNum": 4
   },
   {
    "_defaultOrder": 3,
    "_isFastLaunch": false,
    "category": "General purpose",
    "gpuNum": 0,
    "hideHardwareSpecs": false,
    "memoryGiB": 32,
    "name": "ml.t3.2xlarge",
    "vcpuNum": 8
   },
   {
    "_defaultOrder": 4,
    "_isFastLaunch": true,
    "category": "General purpose",
    "gpuNum": 0,
    "hideHardwareSpecs": false,
    "memoryGiB": 8,
    "name": "ml.m5.large",
    "vcpuNum": 2
   },
   {
    "_defaultOrder": 5,
    "_isFastLaunch": false,
    "category": "General purpose",
    "gpuNum": 0,
    "hideHardwareSpecs": false,
    "memoryGiB": 16,
    "name": "ml.m5.xlarge",
    "vcpuNum": 4
   },
   {
    "_defaultOrder": 6,
    "_isFastLaunch": false,
    "category": "General purpose",
    "gpuNum": 0,
    "hideHardwareSpecs": false,
    "memoryGiB": 32,
    "name": "ml.m5.2xlarge",
    "vcpuNum": 8
   },
   {
    "_defaultOrder": 7,
    "_isFastLaunch": false,
    "category": "General purpose",
    "gpuNum": 0,
    "hideHardwareSpecs": false,
    "memoryGiB": 64,
    "name": "ml.m5.4xlarge",
    "vcpuNum": 16
   },
   {
    "_defaultOrder": 8,
    "_isFastLaunch": false,
    "category": "General purpose",
    "gpuNum": 0,
    "hideHardwareSpecs": false,
    "memoryGiB": 128,
    "name": "ml.m5.8xlarge",
    "vcpuNum": 32
   },
   {
    "_defaultOrder": 9,
    "_isFastLaunch": false,
    "category": "General purpose",
    "gpuNum": 0,
    "hideHardwareSpecs": false,
    "memoryGiB": 192,
    "name": "ml.m5.12xlarge",
    "vcpuNum": 48
   },
   {
    "_defaultOrder": 10,
    "_isFastLaunch": false,
    "category": "General purpose",
    "gpuNum": 0,
    "hideHardwareSpecs": false,
    "memoryGiB": 256,
    "name": "ml.m5.16xlarge",
    "vcpuNum": 64
   },
   {
    "_defaultOrder": 11,
    "_isFastLaunch": false,
    "category": "General purpose",
    "gpuNum": 0,
    "hideHardwareSpecs": false,
    "memoryGiB": 384,
    "name": "ml.m5.24xlarge",
    "vcpuNum": 96
   },
   {
    "_defaultOrder": 12,
    "_isFastLaunch": false,
    "category": "General purpose",
    "gpuNum": 0,
    "hideHardwareSpecs": false,
    "memoryGiB": 8,
    "name": "ml.m5d.large",
    "vcpuNum": 2
   },
   {
    "_defaultOrder": 13,
    "_isFastLaunch": false,
    "category": "General purpose",
    "gpuNum": 0,
    "hideHardwareSpecs": false,
    "memoryGiB": 16,
    "name": "ml.m5d.xlarge",
    "vcpuNum": 4
   },
   {
    "_defaultOrder": 14,
    "_isFastLaunch": false,
    "category": "General purpose",
    "gpuNum": 0,
    "hideHardwareSpecs": false,
    "memoryGiB": 32,
    "name": "ml.m5d.2xlarge",
    "vcpuNum": 8
   },
   {
    "_defaultOrder": 15,
    "_isFastLaunch": false,
    "category": "General purpose",
    "gpuNum": 0,
    "hideHardwareSpecs": false,
    "memoryGiB": 64,
    "name": "ml.m5d.4xlarge",
    "vcpuNum": 16
   },
   {
    "_defaultOrder": 16,
    "_isFastLaunch": false,
    "category": "General purpose",
    "gpuNum": 0,
    "hideHardwareSpecs": false,
    "memoryGiB": 128,
    "name": "ml.m5d.8xlarge",
    "vcpuNum": 32
   },
   {
    "_defaultOrder": 17,
    "_isFastLaunch": false,
    "category": "General purpose",
    "gpuNum": 0,
    "hideHardwareSpecs": false,
    "memoryGiB": 192,
    "name": "ml.m5d.12xlarge",
    "vcpuNum": 48
   },
   {
    "_defaultOrder": 18,
    "_isFastLaunch": false,
    "category": "General purpose",
    "gpuNum": 0,
    "hideHardwareSpecs": false,
    "memoryGiB": 256,
    "name": "ml.m5d.16xlarge",
    "vcpuNum": 64
   },
   {
    "_defaultOrder": 19,
    "_isFastLaunch": false,
    "category": "General purpose",
    "gpuNum": 0,
    "hideHardwareSpecs": false,
    "memoryGiB": 384,
    "name": "ml.m5d.24xlarge",
    "vcpuNum": 96
   },
   {
    "_defaultOrder": 20,
    "_isFastLaunch": false,
    "category": "General purpose",
    "gpuNum": 0,
    "hideHardwareSpecs": true,
    "memoryGiB": 0,
    "name": "ml.geospatial.interactive",
    "supportedImageNames": [
     "sagemaker-geospatial-v1-0"
    ],
    "vcpuNum": 0
   },
   {
    "_defaultOrder": 21,
    "_isFastLaunch": true,
    "category": "Compute optimized",
    "gpuNum": 0,
    "hideHardwareSpecs": false,
    "memoryGiB": 4,
    "name": "ml.c5.large",
    "vcpuNum": 2
   },
   {
    "_defaultOrder": 22,
    "_isFastLaunch": false,
    "category": "Compute optimized",
    "gpuNum": 0,
    "hideHardwareSpecs": false,
    "memoryGiB": 8,
    "name": "ml.c5.xlarge",
    "vcpuNum": 4
   },
   {
    "_defaultOrder": 23,
    "_isFastLaunch": false,
    "category": "Compute optimized",
    "gpuNum": 0,
    "hideHardwareSpecs": false,
    "memoryGiB": 16,
    "name": "ml.c5.2xlarge",
    "vcpuNum": 8
   },
   {
    "_defaultOrder": 24,
    "_isFastLaunch": false,
    "category": "Compute optimized",
    "gpuNum": 0,
    "hideHardwareSpecs": false,
    "memoryGiB": 32,
    "name": "ml.c5.4xlarge",
    "vcpuNum": 16
   },
   {
    "_defaultOrder": 25,
    "_isFastLaunch": false,
    "category": "Compute optimized",
    "gpuNum": 0,
    "hideHardwareSpecs": false,
    "memoryGiB": 72,
    "name": "ml.c5.9xlarge",
    "vcpuNum": 36
   },
   {
    "_defaultOrder": 26,
    "_isFastLaunch": false,
    "category": "Compute optimized",
    "gpuNum": 0,
    "hideHardwareSpecs": false,
    "memoryGiB": 96,
    "name": "ml.c5.12xlarge",
    "vcpuNum": 48
   },
   {
    "_defaultOrder": 27,
    "_isFastLaunch": false,
    "category": "Compute optimized",
    "gpuNum": 0,
    "hideHardwareSpecs": false,
    "memoryGiB": 144,
    "name": "ml.c5.18xlarge",
    "vcpuNum": 72
   },
   {
    "_defaultOrder": 28,
    "_isFastLaunch": false,
    "category": "Compute optimized",
    "gpuNum": 0,
    "hideHardwareSpecs": false,
    "memoryGiB": 192,
    "name": "ml.c5.24xlarge",
    "vcpuNum": 96
   },
   {
    "_defaultOrder": 29,
    "_isFastLaunch": true,
    "category": "Accelerated computing",
    "gpuNum": 1,
    "hideHardwareSpecs": false,
    "memoryGiB": 16,
    "name": "ml.g4dn.xlarge",
    "vcpuNum": 4
   },
   {
    "_defaultOrder": 30,
    "_isFastLaunch": false,
    "category": "Accelerated computing",
    "gpuNum": 1,
    "hideHardwareSpecs": false,
    "memoryGiB": 32,
    "name": "ml.g4dn.2xlarge",
    "vcpuNum": 8
   },
   {
    "_defaultOrder": 31,
    "_isFastLaunch": false,
    "category": "Accelerated computing",
    "gpuNum": 1,
    "hideHardwareSpecs": false,
    "memoryGiB": 64,
    "name": "ml.g4dn.4xlarge",
    "vcpuNum": 16
   },
   {
    "_defaultOrder": 32,
    "_isFastLaunch": false,
    "category": "Accelerated computing",
    "gpuNum": 1,
    "hideHardwareSpecs": false,
    "memoryGiB": 128,
    "name": "ml.g4dn.8xlarge",
    "vcpuNum": 32
   },
   {
    "_defaultOrder": 33,
    "_isFastLaunch": false,
    "category": "Accelerated computing",
    "gpuNum": 4,
    "hideHardwareSpecs": false,
    "memoryGiB": 192,
    "name": "ml.g4dn.12xlarge",
    "vcpuNum": 48
   },
   {
    "_defaultOrder": 34,
    "_isFastLaunch": false,
    "category": "Accelerated computing",
    "gpuNum": 1,
    "hideHardwareSpecs": false,
    "memoryGiB": 256,
    "name": "ml.g4dn.16xlarge",
    "vcpuNum": 64
   },
   {
    "_defaultOrder": 35,
    "_isFastLaunch": false,
    "category": "Accelerated computing",
    "gpuNum": 1,
    "hideHardwareSpecs": false,
    "memoryGiB": 61,
    "name": "ml.p3.2xlarge",
    "vcpuNum": 8
   },
   {
    "_defaultOrder": 36,
    "_isFastLaunch": false,
    "category": "Accelerated computing",
    "gpuNum": 4,
    "hideHardwareSpecs": false,
    "memoryGiB": 244,
    "name": "ml.p3.8xlarge",
    "vcpuNum": 32
   },
   {
    "_defaultOrder": 37,
    "_isFastLaunch": false,
    "category": "Accelerated computing",
    "gpuNum": 8,
    "hideHardwareSpecs": false,
    "memoryGiB": 488,
    "name": "ml.p3.16xlarge",
    "vcpuNum": 64
   },
   {
    "_defaultOrder": 38,
    "_isFastLaunch": false,
    "category": "Accelerated computing",
    "gpuNum": 8,
    "hideHardwareSpecs": false,
    "memoryGiB": 768,
    "name": "ml.p3dn.24xlarge",
    "vcpuNum": 96
   },
   {
    "_defaultOrder": 39,
    "_isFastLaunch": false,
    "category": "Memory Optimized",
    "gpuNum": 0,
    "hideHardwareSpecs": false,
    "memoryGiB": 16,
    "name": "ml.r5.large",
    "vcpuNum": 2
   },
   {
    "_defaultOrder": 40,
    "_isFastLaunch": false,
    "category": "Memory Optimized",
    "gpuNum": 0,
    "hideHardwareSpecs": false,
    "memoryGiB": 32,
    "name": "ml.r5.xlarge",
    "vcpuNum": 4
   },
   {
    "_defaultOrder": 41,
    "_isFastLaunch": false,
    "category": "Memory Optimized",
    "gpuNum": 0,
    "hideHardwareSpecs": false,
    "memoryGiB": 64,
    "name": "ml.r5.2xlarge",
    "vcpuNum": 8
   },
   {
    "_defaultOrder": 42,
    "_isFastLaunch": false,
    "category": "Memory Optimized",
    "gpuNum": 0,
    "hideHardwareSpecs": false,
    "memoryGiB": 128,
    "name": "ml.r5.4xlarge",
    "vcpuNum": 16
   },
   {
    "_defaultOrder": 43,
    "_isFastLaunch": false,
    "category": "Memory Optimized",
    "gpuNum": 0,
    "hideHardwareSpecs": false,
    "memoryGiB": 256,
    "name": "ml.r5.8xlarge",
    "vcpuNum": 32
   },
   {
    "_defaultOrder": 44,
    "_isFastLaunch": false,
    "category": "Memory Optimized",
    "gpuNum": 0,
    "hideHardwareSpecs": false,
    "memoryGiB": 384,
    "name": "ml.r5.12xlarge",
    "vcpuNum": 48
   },
   {
    "_defaultOrder": 45,
    "_isFastLaunch": false,
    "category": "Memory Optimized",
    "gpuNum": 0,
    "hideHardwareSpecs": false,
    "memoryGiB": 512,
    "name": "ml.r5.16xlarge",
    "vcpuNum": 64
   },
   {
    "_defaultOrder": 46,
    "_isFastLaunch": false,
    "category": "Memory Optimized",
    "gpuNum": 0,
    "hideHardwareSpecs": false,
    "memoryGiB": 768,
    "name": "ml.r5.24xlarge",
    "vcpuNum": 96
   },
   {
    "_defaultOrder": 47,
    "_isFastLaunch": false,
    "category": "Accelerated computing",
    "gpuNum": 1,
    "hideHardwareSpecs": false,
    "memoryGiB": 16,
    "name": "ml.g5.xlarge",
    "vcpuNum": 4
   },
   {
    "_defaultOrder": 48,
    "_isFastLaunch": false,
    "category": "Accelerated computing",
    "gpuNum": 1,
    "hideHardwareSpecs": false,
    "memoryGiB": 32,
    "name": "ml.g5.2xlarge",
    "vcpuNum": 8
   },
   {
    "_defaultOrder": 49,
    "_isFastLaunch": false,
    "category": "Accelerated computing",
    "gpuNum": 1,
    "hideHardwareSpecs": false,
    "memoryGiB": 64,
    "name": "ml.g5.4xlarge",
    "vcpuNum": 16
   },
   {
    "_defaultOrder": 50,
    "_isFastLaunch": false,
    "category": "Accelerated computing",
    "gpuNum": 1,
    "hideHardwareSpecs": false,
    "memoryGiB": 128,
    "name": "ml.g5.8xlarge",
    "vcpuNum": 32
   },
   {
    "_defaultOrder": 51,
    "_isFastLaunch": false,
    "category": "Accelerated computing",
    "gpuNum": 1,
    "hideHardwareSpecs": false,
    "memoryGiB": 256,
    "name": "ml.g5.16xlarge",
    "vcpuNum": 64
   },
   {
    "_defaultOrder": 52,
    "_isFastLaunch": false,
    "category": "Accelerated computing",
    "gpuNum": 4,
    "hideHardwareSpecs": false,
    "memoryGiB": 192,
    "name": "ml.g5.12xlarge",
    "vcpuNum": 48
   },
   {
    "_defaultOrder": 53,
    "_isFastLaunch": false,
    "category": "Accelerated computing",
    "gpuNum": 4,
    "hideHardwareSpecs": false,
    "memoryGiB": 384,
    "name": "ml.g5.24xlarge",
    "vcpuNum": 96
   },
   {
    "_defaultOrder": 54,
    "_isFastLaunch": false,
    "category": "Accelerated computing",
    "gpuNum": 8,
    "hideHardwareSpecs": false,
    "memoryGiB": 768,
    "name": "ml.g5.48xlarge",
    "vcpuNum": 192
   },
   {
    "_defaultOrder": 55,
    "_isFastLaunch": false,
    "category": "Accelerated computing",
    "gpuNum": 8,
    "hideHardwareSpecs": false,
    "memoryGiB": 1152,
    "name": "ml.p4d.24xlarge",
    "vcpuNum": 96
   },
   {
    "_defaultOrder": 56,
    "_isFastLaunch": false,
    "category": "Accelerated computing",
    "gpuNum": 8,
    "hideHardwareSpecs": false,
    "memoryGiB": 1152,
    "name": "ml.p4de.24xlarge",
    "vcpuNum": 96
   }
  ],
  "kernelspec": {
   "display_name": "Python 3 (Data Science 3.0)",
   "language": "python",
   "name": "python3__SAGEMAKER_INTERNAL__arn:aws:sagemaker:eu-west-1:470317259841:image/sagemaker-data-science-310-v1"
  },
  "language_info": {
   "codemirror_mode": {
    "name": "ipython",
    "version": 3
   },
   "file_extension": ".py",
   "mimetype": "text/x-python",
   "name": "python",
   "nbconvert_exporter": "python",
   "pygments_lexer": "ipython3",
   "version": "3.10.6"
  }
 },
 "nbformat": 4,
 "nbformat_minor": 5
}
